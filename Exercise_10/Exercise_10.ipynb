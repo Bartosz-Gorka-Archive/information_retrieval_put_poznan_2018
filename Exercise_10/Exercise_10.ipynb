{
 "cells": [
  {
   "cell_type": "code",
   "execution_count": 1,
   "metadata": {},
   "outputs": [],
   "source": [
    "%matplotlib inline\n",
    "import numpy as np\n",
    "import matplotlib.pyplot as plt\n",
    "import datetime"
   ]
  },
  {
   "cell_type": "markdown",
   "metadata": {},
   "source": [
    "1) Log file is loaded"
   ]
  },
  {
   "cell_type": "code",
   "execution_count": 2,
   "metadata": {},
   "outputs": [
    {
     "name": "stdout",
     "output_type": "stream",
     "text": [
      "156.15.13.173 [01/Jan/2018:11:13:49 +0100] \"GET AddProduct.html HTTP/1.0\" 200 2356\n",
      "176.247.135.49 [01/Jan/2018:11:18:07 +0100] \"GET Shop.html HTTP/1.0\" 200 7466\n",
      "176.247.135.49 [01/Jan/2018:11:19:05 +0100] \"GET AddProduct.html HTTP/1.0\" 200 2356\n"
     ]
    }
   ],
   "source": [
    "file = open(\"log.txt\", \"r\") \n",
    "lines = file.readlines()\n",
    "for l in range(3): print(lines[l][:-1])"
   ]
  },
  {
   "cell_type": "markdown",
   "metadata": {},
   "source": [
    "2) Cass \"Request\" parses and keeps data of a single requests. Complete the TODO, where a given \"line\" (string) should be parsed in order to dervie the ip of the host making the request, time of the request (in seconds), and target page (name)."
   ]
  },
  {
   "cell_type": "code",
   "execution_count": 3,
   "metadata": {},
   "outputs": [],
   "source": [
    "import re\n",
    "class Request:\n",
    "    def __init__(self, line):\n",
    "        # IP address\n",
    "        ip = re.search('[0-9]{1,3}[.][0-9]{1,3}[.][0-9]{1,3}[.][0-9]{1,3}', line)\n",
    "        self.ip = ip.group(0)\n",
    "        \n",
    "        # Convert hours + minutes + seconds and generate total number of seconds\n",
    "        time = re.search('[0-9]{4}:[0-9]{2}:[0-9]{2}:[0-9]{2}', line)\n",
    "        splited = time.group(0).split(':') # 0 - year, 1 - hour, 2 - minutes, 3 - seconds\n",
    "        self.time = (int(splited[1]) * 3_600) + ((int(splited[2]) - 1) * 60) + int(splited[3]) - 1\n",
    "        \n",
    "        # Page\n",
    "        page = re.search('[0-9A-z]+[.]html', line)\n",
    "        self.page = page.group(0)\n",
    "        \n",
    "    def __repr__(self):\n",
    "        return self.ip + \"     \" +  str(datetime.timedelta(seconds=self.time)) + \" -> \" + self.page"
   ]
  },
  {
   "cell_type": "markdown",
   "metadata": {},
   "source": [
    "3) Each line of log.txt is parsed and the Request objects are added to the list"
   ]
  },
  {
   "cell_type": "code",
   "execution_count": 4,
   "metadata": {},
   "outputs": [
    {
     "name": "stdout",
     "output_type": "stream",
     "text": [
      "156.15.13.173     11:12:48 -> AddProduct.html\n",
      "176.247.135.49     11:17:06 -> Shop.html\n",
      "176.247.135.49     11:18:04 -> AddProduct.html\n",
      "176.247.135.49     11:28:04 -> Summary.html\n",
      "69.84.30.199     11:42:58 -> Shop.html\n",
      "69.84.30.199     11:44:15 -> AddProduct.html\n",
      "57.116.45.120     11:45:44 -> AddProduct.html\n",
      "69.84.30.199     11:49:35 -> Summary.html\n",
      "69.84.30.199     11:51:37 -> Payment.html\n",
      "26.19.183.202     11:52:10 -> AddProduct.html\n"
     ]
    }
   ],
   "source": [
    "reqs = [Request(line) for line in lines]\n",
    "for l in range(10): print(reqs[l]) "
   ]
  },
  {
   "cell_type": "markdown",
   "metadata": {},
   "source": [
    "# Exercise"
   ]
  },
  {
   "cell_type": "markdown",
   "metadata": {},
   "source": [
    "Your task is to analyze the log file. You should indentify the users and sessions. Then, compute the following: <br>\n",
    "[DONE] 3.1) the number of sessions (should be 1000 :) ), <br>\n",
    "[DONE] 3.2) the number of users (391), <br>\n",
    "[DONE] 3.3) the average number of sessions per one user <br>\n",
    "3.4) use the distribution plot to visualize the sessions' lengths (minutes);  <br>\n",
    "3.5) use the distribution plot to visualize the sessions' lengths (the number of requests) <br>\n",
    "3.6) use the distribution plot to visualize sessions' starting times (hours). <br>\n",
    "3.7) which web page is the most common entry point?; for each page plot the number of times it has been an entry page,  <br>\n",
    "3.8) which web page is the most common departure point?; for each page plot the number of times the user stopped a session while being on this page, <br>\n",
    "3.9) for each page plot the average time the user stayed on this page <br>\n",
    "3.10) print the fist 10 sessions (paths). <br>\n",
    "\n",
    "You may find the following classes helpful and data."
   ]
  },
  {
   "cell_type": "code",
   "execution_count": 5,
   "metadata": {},
   "outputs": [],
   "source": [
    "class Session:\n",
    "    def __init__(self, start, stop, requests):\n",
    "        self.startTime = start\n",
    "        self.stopTime = stop\n",
    "        self.requests = requests\n",
    "        \n",
    "    def __repr__(self):\n",
    "        print(\"SESSION\")\n",
    "        print(self.startTime)\n",
    "        print(self.stopTime)\n",
    "        STR = \"\"\n",
    "        for r in self.requests:\n",
    "            print(r)\n",
    "            STR += (\"  \" + r.page + \"    \" + str(datetime.timedelta(seconds=r.time)) + \"\\n\")\n",
    "        return STR\n",
    "\n",
    "class Computer:\n",
    "    def __init__(self, ip, sessions):\n",
    "        self.ip = ip\n",
    "        self.sessions = sessions\n",
    "    def __repr__(self):\n",
    "        return self.ip\n",
    "\n",
    "PAGES = [\"Shop.html\", \"AddProduct.html\", \"Summary.html\", \"Payment.html\",\"About.html\", \"Contact.html\"]\n",
    "\n",
    "LINKS = [\n",
    "         [1, 4],\n",
    "         [2, 4],\n",
    "         [3],\n",
    "         [],\n",
    "         [1, 5],\n",
    "         []\n",
    "        ]\n",
    "\n",
    "#plot distribution\n",
    "#count, bins, ignored = plt.hist(data, 50, alpha=0.5, normed=True)\n",
    "#plt.plot()\n",
    "\n",
    "#x_axis = np.arange(len(pages))\n",
    "#plt.bar(x_axis, data, align='center', alpha=0.5)\n",
    "#plt.xticks(y_pos, pages, rotation=90)"
   ]
  },
  {
   "cell_type": "code",
   "execution_count": 27,
   "metadata": {},
   "outputs": [
    {
     "name": "stdout",
     "output_type": "stream",
     "text": [
      "Total sessions: 1000\n"
     ]
    }
   ],
   "source": [
    "# Task 1 - Sessions\n",
    "MAX_SESSION_TIME = 15 * 60 # 15 minutes\n",
    "ip_addresses_with_requests = {}\n",
    "SESSIONS = []\n",
    "\n",
    "# Group requests by user's IP\n",
    "for r in reqs:\n",
    "    record = ip_addresses_with_requests.get(r.ip, [])\n",
    "    record.append(r)\n",
    "    ip_addresses_with_requests.update({r.ip: record})\n",
    "\n",
    "# Check requests and generate Sessions structures\n",
    "for key, val in ip_addresses_with_requests.items():\n",
    "    # Local variables with UNIX start & end session time, requests inside session\n",
    "    startTime = 0\n",
    "    stopTime = 0\n",
    "    requests = []\n",
    "    lastPageID = 0\n",
    "        \n",
    "    for visit in val:\n",
    "        # Request inside session\n",
    "        if (stopTime + MAX_SESSION_TIME) > visit.time:\n",
    "            currentPageID = PAGES.index(visit.page)\n",
    "            \n",
    "            # Last page and current with link\n",
    "            if (currentPageID in LINKS[lastPageID]):\n",
    "                stopTime = visit.time\n",
    "                requests.append(visit)\n",
    "                lastPageID = currentPageID\n",
    "            else:\n",
    "                # Store session and start new\n",
    "                SESSIONS.append(Session(startTime, stopTime, requests))\n",
    "                startTime = visit.time\n",
    "                stopTime = visit.time\n",
    "                requests = [visit]\n",
    "                lastPageID = currentPageID\n",
    "        else:\n",
    "            # Append already prepared Session record\n",
    "            if startTime != 0:\n",
    "                new_session = Session(startTime, stopTime, requests)\n",
    "                SESSIONS.append(new_session)\n",
    "                requests = []\n",
    "            \n",
    "            # Start new session\n",
    "            startTime = visit.time\n",
    "            stopTime = visit.time\n",
    "            requests.append(visit)\n",
    "            lastPageID = PAGES.index(visit.page)\n",
    "    \n",
    "    # Append last record - exit page\n",
    "    SESSIONS.append(Session(startTime, stopTime, requests))\n",
    "    \n",
    "# Calculate total sessions and show message\n",
    "TOTAL_SESSIONS = len(SESSIONS)\n",
    "print('Total sessions:', TOTAL_SESSIONS)"
   ]
  },
  {
   "cell_type": "code",
   "execution_count": 28,
   "metadata": {},
   "outputs": [
    {
     "name": "stdout",
     "output_type": "stream",
     "text": [
      "Unique IP addresses count: 391\n"
     ]
    }
   ],
   "source": [
    "# Task 2 - Unique IP addresses\n",
    "USERS = ip_addresses_with_requests\n",
    "USERS_COUNT = len(USERS.keys())\n",
    "\n",
    "print('Unique IP addresses count:', USERS_COUNT)"
   ]
  },
  {
   "cell_type": "code",
   "execution_count": 43,
   "metadata": {},
   "outputs": [
    {
     "name": "stdout",
     "output_type": "stream",
     "text": [
      "Average number of sessions per user: 2.557544757033248\n"
     ]
    }
   ],
   "source": [
    "# Task 3 - The average number of sessions per one user\n",
    "print('Average number of sessions per user:', TOTAL_SESSIONS/USERS_COUNT)"
   ]
  },
  {
   "cell_type": "code",
   "execution_count": null,
   "metadata": {},
   "outputs": [],
   "source": []
  }
 ],
 "metadata": {
  "kernelspec": {
   "display_name": "Python 3",
   "language": "python",
   "name": "python3"
  },
  "language_info": {
   "codemirror_mode": {
    "name": "ipython",
    "version": 3
   },
   "file_extension": ".py",
   "mimetype": "text/x-python",
   "name": "python",
   "nbconvert_exporter": "python",
   "pygments_lexer": "ipython3",
   "version": "3.6.5"
  }
 },
 "nbformat": 4,
 "nbformat_minor": 2
}
