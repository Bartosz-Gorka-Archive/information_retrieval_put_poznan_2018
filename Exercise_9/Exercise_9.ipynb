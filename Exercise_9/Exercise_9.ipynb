{
 "cells": [
  {
   "cell_type": "code",
   "execution_count": 172,
   "metadata": {},
   "outputs": [],
   "source": [
    "# SOME IMPORTS\n",
    "import os\n",
    "import subprocess\n",
    "import sys\n",
    "import time\n",
    "import multiprocessing\n",
    "import random\n",
    "import re"
   ]
  },
  {
   "cell_type": "code",
   "execution_count": 173,
   "metadata": {},
   "outputs": [],
   "source": [
    "# SET SOME ENVIRONMENTAL VARIABLES\n",
    "os.environ['PYSPARK_PYTHON']=\"python3.6\"\n",
    "os.environ['SPARK_LOCAL_HOSTNAME']=\"localhost\"\n",
    "os.environ['SPARK_HOME']=\"/WiPZI/Exercise_9/spark-2.2.1-bin-hadoop2.7\"\n",
    "os.environ['JAVA_HOME']=\"/Library/Java/JavaVirtualMachines/jdk1.8.0_151.jdk/Contents/Home\""
   ]
  },
  {
   "cell_type": "code",
   "execution_count": 174,
   "metadata": {},
   "outputs": [],
   "source": [
    "# CHECK IF FINDSPARK WORKS CORRECTLY\n",
    "import findspark\n",
    "findspark.init()\n",
    "\n",
    "from pyspark import SparkContext, SparkConf"
   ]
  },
  {
   "cell_type": "code",
   "execution_count": 175,
   "metadata": {},
   "outputs": [],
   "source": [
    "# START SPARK CONTEXT ON LOCAL MACHINE\n",
    "sc = SparkContext(\"local\", appName=\"Test\")"
   ]
  },
  {
   "cell_type": "code",
   "execution_count": 176,
   "metadata": {},
   "outputs": [],
   "source": [
    "# STOP SPARK CONTEXT\n",
    "sc.stop()"
   ]
  },
  {
   "cell_type": "code",
   "execution_count": 177,
   "metadata": {},
   "outputs": [
    {
     "name": "stdout",
     "output_type": "stream",
     "text": [
      "The number of logical CPUs is 4\n"
     ]
    }
   ],
   "source": [
    "# OBTAIN THE NUMBER OF LOGICAL CPUs\n",
    "cpus = multiprocessing.cpu_count()\n",
    "print(\"The number of logical CPUs is \" + str(cpus))"
   ]
  },
  {
   "cell_type": "markdown",
   "metadata": {},
   "source": [
    "# Exercise 1: Compute the value of PI using Monte Carlo Simulation"
   ]
  },
  {
   "cell_type": "markdown",
   "metadata": {},
   "source": [
    "This exercise is solved. Your task is to read and analyse the code."
   ]
  },
  {
   "cell_type": "code",
   "execution_count": 178,
   "metadata": {},
   "outputs": [],
   "source": [
    "# this method generates one sample point and verifies whether it is inside a circle or not.\n",
    "# The input is passed via filter method, however, we do not need it here\n",
    "def inside(inValue):\n",
    "    x, y = random.random(), random.random()\n",
    "    return x*x + y*y < 1.0"
   ]
  },
  {
   "cell_type": "code",
   "execution_count": 179,
   "metadata": {},
   "outputs": [],
   "source": [
    "# This method estimates the value of PI\n",
    "def computePI_MonteCarlo_v1(sc, samples, partitions):\n",
    "    # Create Resilient Distributed Dataset (RDDs) containing SAMPLES elements.\n",
    "    # This data is distributed (parallelized) among available nodes (here, CPUs - partitions).\n",
    "    dff = sc.parallelize(range(0, samples), partitions)\n",
    "    # Filter out these samples that are not inside a circle.\n",
    "    # For this purpose, Inside method is run and returns\n",
    "    # true/false (for each data element) with appropriate probability distribution\n",
    "    # Why do we generate samples \"on fly\"?\n",
    "    filtered = dff.filter(inside)\n",
    "    # count the number of hits\n",
    "    left = filtered.count()\n",
    "    # Estimate the value of PI and return it\n",
    "    return 4.0 * float(left) / float(samples)"
   ]
  },
  {
   "cell_type": "code",
   "execution_count": 180,
   "metadata": {},
   "outputs": [
    {
     "name": "stdout",
     "output_type": "stream",
     "text": [
      "Monte Carlo simulation for 10000000 samples\n",
      "True value of PI = 3.1415926535...\n",
      "  Number of CPUs = 1 | Time = 8.7398 s | Result(PI) = 3.14158360\n",
      "  Number of CPUs = 2 | Time = 4.1961 s | Result(PI) = 3.14297120\n",
      "  Number of CPUs = 3 | Time = 4.0732 s | Result(PI) = 3.14193880\n",
      "  Number of CPUs = 4 | Time = 4.1777 s | Result(PI) = 3.14229440\n"
     ]
    }
   ],
   "source": [
    "### ESTIMATE VALUE OF PI \n",
    "samples = 10000000\n",
    "\n",
    "print(\"Monte Carlo simulation for \" + str(samples) + \" samples\")\n",
    "print(\"True value of PI = 3.1415926535...\")\n",
    "\n",
    "## i = number of nodes (CPUs)\n",
    "for i in range(1, cpus + 1):\n",
    "    master = \"local[\"+str(i)+\"]\" \n",
    "    sc = SparkContext(master, appName=\"PI_MonteCarlo\")\n",
    "    start_time = time.time()\n",
    "    piValue = computePI_MonteCarlo_v1(sc, samples, i)\n",
    "    elapsed = time.time() - start_time\n",
    "    print(\"  Number of CPUs = %i | Time = %.4f s | Result(PI) = %.8f\" % (i, elapsed, piValue))  \n",
    "    sc.stop()"
   ]
  },
  {
   "cell_type": "markdown",
   "metadata": {
    "collapsed": true
   },
   "source": [
    "# Exercise 2: Wordcount"
   ]
  },
  {
   "cell_type": "code",
   "execution_count": 181,
   "metadata": {},
   "outputs": [],
   "source": [
    "# Dummy collection 1: 3 short documents\n",
    "# create RDD divided into n-partitions\n",
    "def getSmallCollection_EX1(sc, partitions):\n",
    "    doc1 = \"Roses,are red \"\n",
    "    doc2 = \"Roses are roses\"\n",
    "    doc3 = \"The Sun is red.\"\n",
    "    rdd1 = sc.parallelize([doc1, doc2, doc3], partitions)\n",
    "    return rdd1"
   ]
  },
  {
   "cell_type": "markdown",
   "metadata": {},
   "source": [
    "1) Dummy collection 2: ~200 documents about animals (ant.html, dog.html, panda.html, hedgehog.html, etc.). For this purpose, download www.cs.put.poznan.pl/mtomczyk/ir/lab8/pages.zip, unzip, and copy \"pages\" folder into your working directory."
   ]
  },
  {
   "cell_type": "code",
   "execution_count": 182,
   "metadata": {},
   "outputs": [],
   "source": [
    "def getLargeCollection_EX1(sc, partitions):\n",
    "    DOCS = sc.wholeTextFiles(\"pages/\", partitions)\n",
    "    rdd1 = DOCS.map(lambda x: x[1])\n",
    "    return rdd1"
   ]
  },
  {
   "cell_type": "code",
   "execution_count": 183,
   "metadata": {},
   "outputs": [],
   "source": [
    "# For a given text \"x\", this method performs simple tokenization and normalization (returns a list of terms)\n",
    "def tokenizeAndNormalize(x):\n",
    "    return [s.lower() for s in re.split(' |;|,|\\t|\\n|\\.', x) if len(s) > 0]"
   ]
  },
  {
   "cell_type": "markdown",
   "metadata": {},
   "source": [
    "2) Init spark context (1 core):"
   ]
  },
  {
   "cell_type": "code",
   "execution_count": 184,
   "metadata": {},
   "outputs": [],
   "source": [
    "sc = SparkContext(\"local[1]\", appName=\"Word_count\")"
   ]
  },
  {
   "cell_type": "markdown",
   "metadata": {},
   "source": [
    "3) TODO: Collect the data (getSmallCollection_EX1):"
   ]
  },
  {
   "cell_type": "code",
   "execution_count": 185,
   "metadata": {},
   "outputs": [
    {
     "name": "stdout",
     "output_type": "stream",
     "text": [
      "['Roses,are red ', 'Roses are roses', 'The Sun is red.']\n"
     ]
    }
   ],
   "source": [
    "rdd1 = getSmallCollection_EX1(sc, 1)\n",
    "# if you whish to print data stored in rdd, use print(rdd.collect())\n",
    "print(rdd1.collect())"
   ]
  },
  {
   "cell_type": "markdown",
   "metadata": {},
   "source": [
    "4) TODO: Firslty, you should tokenize all documents. For this purpose use flatMap function (rdd2 = rdd1.flatMap) where you pass tokenizeAndNormalize method. There are two methods: map and flatMap. Both produce an output for each element of RDD object. The difference is that map keeps produced elements organised and flatMap puts them into a single list, e.g.: "
   ]
  },
  {
   "cell_type": "code",
   "execution_count": 186,
   "metadata": {},
   "outputs": [
    {
     "name": "stdout",
     "output_type": "stream",
     "text": [
      "[('a', 2), ('b', 3)]\n",
      "['a', 2, 'b', 3]\n"
     ]
    }
   ],
   "source": [
    "tempRDD = sc.parallelize([(\"a\", 1), (\"b\", 2)])\n",
    "print(tempRDD.map(lambda x: (x[0], x[1]+1)).collect())\n",
    "print(tempRDD.flatMap(lambda x: (x[0], x[1]+1)).collect())"
   ]
  },
  {
   "cell_type": "code",
   "execution_count": 187,
   "metadata": {},
   "outputs": [
    {
     "name": "stdout",
     "output_type": "stream",
     "text": [
      "['roses', 'are', 'red', 'roses', 'are', 'roses', 'the', 'sun', 'is', 'red']\n"
     ]
    }
   ],
   "source": [
    "# Complete the task here (flatMap with tokenizeAndNormalize):\n",
    "rdd2 = rdd1.flatMap(lambda x: tokenizeAndNormalize(x))\n",
    "print(rdd2.collect())"
   ]
  },
  {
   "cell_type": "markdown",
   "metadata": {},
   "source": [
    "5) TODO: Now for each term produce (term, 1). Use map (why not flatMap?) with lambda function:"
   ]
  },
  {
   "cell_type": "code",
   "execution_count": 188,
   "metadata": {},
   "outputs": [
    {
     "name": "stdout",
     "output_type": "stream",
     "text": [
      "[('roses', 1), ('are', 1), ('red', 1), ('roses', 1), ('are', 1), ('roses', 1), ('the', 1), ('sun', 1), ('is', 1), ('red', 1)]\n"
     ]
    }
   ],
   "source": [
    "rdd3 = rdd2.map(lambda x: (x, 1))\n",
    "print(rdd3.collect())"
   ]
  },
  {
   "cell_type": "markdown",
   "metadata": {},
   "source": [
    "6) TODO: Now it is time to group the results. Use groupByKey method. When any \"...byKey\" method is invoked, the first element of a stored object is treated as a key. When invoking this method, you should also invoke .mapValues(list) so that all corresponding values will be stored in a single list. E.g.:"
   ]
  },
  {
   "cell_type": "code",
   "execution_count": 189,
   "metadata": {},
   "outputs": [
    {
     "name": "stdout",
     "output_type": "stream",
     "text": [
      "[('a', [1, 1])]\n"
     ]
    }
   ],
   "source": [
    "tempRDD = sc.parallelize([(\"a\", 1), (\"a\", 1)])\n",
    "print(tempRDD.groupByKey().mapValues(list).collect())"
   ]
  },
  {
   "cell_type": "code",
   "execution_count": 190,
   "metadata": {},
   "outputs": [
    {
     "name": "stdout",
     "output_type": "stream",
     "text": [
      "[('roses', [1, 1, 1]), ('are', [1, 1]), ('red', [1, 1]), ('the', [1]), ('sun', [1]), ('is', [1])]\n"
     ]
    }
   ],
   "source": [
    "# Complete the task here:\n",
    "rdd4 = rdd3.groupByKey().mapValues(list)\n",
    "print(rdd4.collect())"
   ]
  },
  {
   "cell_type": "markdown",
   "metadata": {},
   "source": [
    "7) TODO: Now you could use countByKey method but it returns a dictionarty. Use map function again to sum the elements of a list:"
   ]
  },
  {
   "cell_type": "code",
   "execution_count": 191,
   "metadata": {},
   "outputs": [
    {
     "name": "stdout",
     "output_type": "stream",
     "text": [
      "[('roses', 3), ('are', 2), ('red', 2), ('the', 1), ('sun', 1), ('is', 1)]\n"
     ]
    }
   ],
   "source": [
    "rdd5 = rdd4.map(lambda x: (x[0], sum(x[1])))\n",
    "print(rdd5.collect())"
   ]
  },
  {
   "cell_type": "markdown",
   "metadata": {},
   "source": [
    "8) TODO: It is almost done but we wish the objects to be sorted (alphabetically). You can use sortByKey method:"
   ]
  },
  {
   "cell_type": "code",
   "execution_count": 192,
   "metadata": {},
   "outputs": [
    {
     "name": "stdout",
     "output_type": "stream",
     "text": [
      "[('are', 2), ('is', 1), ('red', 2), ('roses', 3), ('sun', 1), ('the', 1)]\n"
     ]
    }
   ],
   "source": [
    "rdd6 = rdd5.sortByKey()\n",
    "print(rdd6.collect())"
   ]
  },
  {
   "cell_type": "markdown",
   "metadata": {},
   "source": [
    "9) TODO: Done. Bout it could be done in another way. Instead of grouping by key (rdd4) and counting the number of \"1\"s (rdd5), you could use reduceByKey method. reduceByKey \"merges\" all object with the same key. Similar to groupByKey, however, instead of grouping, a new value is computed by provided function, e.g.:"
   ]
  },
  {
   "cell_type": "code",
   "execution_count": 193,
   "metadata": {},
   "outputs": [
    {
     "name": "stdout",
     "output_type": "stream",
     "text": [
      "[('a', 4), ('b', 2)]\n"
     ]
    }
   ],
   "source": [
    "tempRDD = sc.parallelize([(\"a\", 1), (\"b\", 2), (\"a\", 3)])\n",
    "print(tempRDD.reduceByKey(lambda x, y: x + y).collect())"
   ]
  },
  {
   "cell_type": "code",
   "execution_count": 194,
   "metadata": {},
   "outputs": [
    {
     "name": "stdout",
     "output_type": "stream",
     "text": [
      "[('roses', 3), ('are', 2), ('red', 2), ('the', 1), ('sun', 1), ('is', 1)]\n"
     ]
    }
   ],
   "source": [
    "# Complete the task here. Use rdd3 object to compute rdd7.\n",
    "rdd7 = rdd3.reduceByKey(lambda x, y: x + y)\n",
    "print(rdd7.collect())"
   ]
  },
  {
   "cell_type": "markdown",
   "metadata": {},
   "source": [
    "10) TODO: Sort the results:"
   ]
  },
  {
   "cell_type": "code",
   "execution_count": 195,
   "metadata": {},
   "outputs": [
    {
     "name": "stdout",
     "output_type": "stream",
     "text": [
      "[('are', 2), ('is', 1), ('red', 2), ('roses', 3), ('sun', 1), ('the', 1)]\n"
     ]
    }
   ],
   "source": [
    "rdd8 = rdd7.sortByKey()\n",
    "print(rdd8.collect())"
   ]
  },
  {
   "cell_type": "code",
   "execution_count": 196,
   "metadata": {},
   "outputs": [],
   "source": [
    "sc.stop()"
   ]
  },
  {
   "cell_type": "markdown",
   "metadata": {},
   "source": [
    "11) TODO: Complete the method doWordCount (just copy your code, use groupByKey + map(sum) version; should return last rdd object):"
   ]
  },
  {
   "cell_type": "code",
   "execution_count": 197,
   "metadata": {},
   "outputs": [],
   "source": [
    "def doWordCount(sc, collection, partitions):\n",
    "    r1 = collection\n",
    "    r2 = r1.flatMap(lambda x: tokenizeAndNormalize(x))\n",
    "    r3 = r2.map(lambda x: (x, 1))\n",
    "    r4 = r3.groupByKey().mapValues(list)\n",
    "    r5 = r4.map(lambda x: (x[0], sum(x[1])))\n",
    "    r6 = r5.sortByKey()\n",
    "    return r6"
   ]
  },
  {
   "cell_type": "markdown",
   "metadata": {},
   "source": [
    "12) TODO: Run the script and observe the results (why is the best time for 1CPU?):"
   ]
  },
  {
   "cell_type": "code",
   "execution_count": 198,
   "metadata": {},
   "outputs": [
    {
     "name": "stdout",
     "output_type": "stream",
     "text": [
      "Number of CPUs = 1 | Time = 0.0272 s \n",
      "Number of CPUs = 2 | Time = 0.8426 s \n",
      "Number of CPUs = 3 | Time = 0.7997 s \n",
      "Number of CPUs = 4 | Time = 0.9669 s \n"
     ]
    }
   ],
   "source": [
    "## i = number of nodes (CPUs). \n",
    "for i in range(1, cpus + 1):\n",
    "    master = \"local[\"+str(i)+\"]\" \n",
    "    sc = SparkContext(master, appName=\"WordCount\")\n",
    "    start_time = time.time()\n",
    "    rdd1 = getSmallCollection_EX1(sc, i)\n",
    "    computedData = doWordCount(sc, rdd1, i)\n",
    "    elapsed = time.time() - start_time\n",
    "    print(\"Number of CPUs = %i | Time = %.4f s \" % (i, elapsed))  \n",
    "    sc.stop()"
   ]
  },
  {
   "cell_type": "markdown",
   "metadata": {},
   "source": [
    "13) TODO: Modyfy the above script (work on a copy, use the cell below) so that the top 3 most common words are printed. Use 1-2CPUs. computedData is an RDD object so you can use sortBy function to resort the elements. "
   ]
  },
  {
   "cell_type": "code",
   "execution_count": 199,
   "metadata": {},
   "outputs": [
    {
     "name": "stdout",
     "output_type": "stream",
     "text": [
      "Number of CPUs = 1 | Time = 0.0339 s \n",
      "   1 : 'roses' occured 3 times\n",
      "   2 : 'are' occured 2 times\n",
      "   3 : 'red' occured 2 times\n",
      "Number of CPUs = 2 | Time = 1.2313 s \n",
      "   1 : 'roses' occured 3 times\n",
      "   2 : 'are' occured 2 times\n",
      "   3 : 'red' occured 2 times\n"
     ]
    }
   ],
   "source": [
    "# ORIGINAL\n",
    "for i in [1,2]:\n",
    "    master = \"local[\"+str(i)+\"]\" \n",
    "    sc = SparkContext(master, appName=\"WordCount\")\n",
    "    start_time = time.time()\n",
    "    rdd1 = getSmallCollection_EX1(sc, i)\n",
    "    computedData = doWordCount(sc, rdd1, i)\n",
    "    rddSort = computedData.sortBy(lambda x: -x[1])\n",
    "    elapsed = time.time() - start_time\n",
    "    print(\"Number of CPUs = %i | Time = %.4f s \" % (i, elapsed))  \n",
    "    ### PRINT HERE \n",
    "    sortedData = rddSort.collect()\n",
    "    for i in range(0, 3): #print top 3\n",
    "        print(\"   %i : '%s' occured %d times\" % (i+1, sortedData[i][0], sortedData[i][1]))\n",
    "    ###\n",
    "    sc.stop()"
   ]
  },
  {
   "cell_type": "code",
   "execution_count": 200,
   "metadata": {},
   "outputs": [
    {
     "name": "stdout",
     "output_type": "stream",
     "text": [
      "Number of CPUs = 1 | Time = 0.0538 s \n",
      "Number of CPUs = 2 | Time = 1.0129 s \n",
      "   1 : 'roses' occured 3 times\n",
      "   2 : 'are' occured 2 times\n",
      "   3 : 'red' occured 2 times\n"
     ]
    }
   ],
   "source": [
    "# COPY\n",
    "for i in [1,2]:\n",
    "    master = \"local[\"+str(i)+\"]\" \n",
    "    sc = SparkContext(master, appName=\"WordCount\")\n",
    "    start_time = time.time()\n",
    "    rdd1 = getSmallCollection_EX1(sc, i)\n",
    "    computedData = doWordCount(sc, rdd1, i)\n",
    "    rddSort = computedData.sortBy(lambda x: -x[1])\n",
    "    elapsed = time.time() - start_time\n",
    "    print(\"Number of CPUs = %i | Time = %.4f s \" % (i, elapsed))  \n",
    "    \n",
    "    if i == 2:\n",
    "        ### PRINT HERE \n",
    "        sortedData = rddSort.collect()\n",
    "        for i in range(0, 3): #print top 3\n",
    "            print(\"   %i : '%s' occured %d times\" % (i+1, sortedData[i][0], sortedData[i][1]))\n",
    "        ###\n",
    "    sc.stop()"
   ]
  },
  {
   "cell_type": "markdown",
   "metadata": {},
   "source": [
    "14) TODO: Repeat the experiment for 1-2CPUs and for 2nd collection (much larger). Compare computation times and print the top 20 most common words. Are the results (the most frequent words) similar to the list of english stop words? Why is the difference in time not as big as in \"PI\" example?"
   ]
  },
  {
   "cell_type": "code",
   "execution_count": 201,
   "metadata": {},
   "outputs": [
    {
     "name": "stdout",
     "output_type": "stream",
     "text": [
      "Number of CPUs = 1 | Time = 4.4481 s \n",
      "Number of CPUs = 2 | Time = 8.0419 s \n",
      "    1 : 'the' occured 3027 times\n",
      "    2 : 'and' occured 1910 times\n",
      "    3 : 'of' occured 1553 times\n",
      "    4 : 'in' occured 1165 times\n",
      "    5 : 'are' occured 1031 times\n",
      "    6 : 'to' occured 962 times\n",
      "    7 : 'a' occured 769 times\n",
      "    8 : 'is' occured 622 times\n",
      "    9 : 'as' occured 560 times\n",
      "   10 : 'species' occured 558 times\n",
      "   11 : 'they' occured 370 times\n",
      "   12 : 'for' occured 362 times\n",
      "   13 : 'with' occured 352 times\n",
      "   14 : 'have' occured 344 times\n",
      "   15 : 'their' occured 326 times\n",
      "   16 : 'or' occured 306 times\n",
      "   17 : 'from' occured 269 times\n",
      "   18 : 'by' occured 244 times\n",
      "   19 : 'on' occured 230 times\n",
      "   20 : 'which' occured 214 times\n"
     ]
    }
   ],
   "source": [
    "# do the task here\n",
    "for i in [1,2]:\n",
    "    master = \"local[\"+str(i)+\"]\" \n",
    "    sc = SparkContext(master, appName=\"WordCount\")\n",
    "    start_time = time.time()\n",
    "    rdd1 = getLargeCollection_EX1(sc, i)\n",
    "    computedData = doWordCount(sc, rdd1, i)\n",
    "    rddSort = computedData.sortBy(lambda x: -x[1])\n",
    "    elapsed = time.time() - start_time\n",
    "    print(\"Number of CPUs = %i | Time = %.4f s \" % (i, elapsed))  \n",
    "    \n",
    "    if i == 2:\n",
    "        ### PRINT HERE \n",
    "        sortedData = rddSort.collect()\n",
    "        for j in range(0, 20): #print top 20\n",
    "            print(\"   {0:2d} : '{1}' occured {2} times\".format(j+1, sortedData[j][0], sortedData[j][1]))\n",
    "        ###\n",
    "    sc.stop()"
   ]
  },
  {
   "cell_type": "markdown",
   "metadata": {},
   "source": [
    "# Exercise 3: Inverted Index + Word Count"
   ]
  },
  {
   "cell_type": "markdown",
   "metadata": {},
   "source": [
    "In this exercise you are asked to construct inverted index in the following form: (term, the number of doccuments in which the term occurs , sorted list of docIDs]. For instance: [...,(\"roses\", 2, [0, 1]),...] -> term \"roses\" occurs in two documents: termIDs = 0 and 1. The \"get...Collection\" methods are slightly modified. Both return: rdd object, list of the names of the documents, and a dictionary (docID -> document name):"
   ]
  },
  {
   "cell_type": "code",
   "execution_count": 202,
   "metadata": {},
   "outputs": [],
   "source": [
    "def getSmallCollection_EX2(sc, partitions):\n",
    "    doc1 = \"Roses,are red \"\n",
    "    doc2 = \"Roses are roses\"\n",
    "    doc3 = \"The Sun in red.\"\n",
    "    rdd1 = sc.parallelize([doc1, doc2, doc3], partitions)\n",
    "    docNames = [\"doc1\", \"doc2\", \"doc3\"]\n",
    "    docIDs = {0: docNames[0], 1: docNames[1], 2: docNames[2]}\n",
    "    return rdd1, docNames, docIDs"
   ]
  },
  {
   "cell_type": "code",
   "execution_count": 203,
   "metadata": {},
   "outputs": [],
   "source": [
    "def getLargeCollection_EX2(sc, partitions):\n",
    "    DOCS = sc.wholeTextFiles(\"./pages/\", partitions)\n",
    "    rdd1 = DOCS.map(lambda x: x[1])\n",
    "    rdd2 = DOCS.map(lambda x: x[0])\n",
    "    docNames = rdd2.collect()\n",
    "    docIDs = [i for i in range(0, len(docNames))]\n",
    "    return rdd1, docNames, docIDs"
   ]
  },
  {
   "cell_type": "markdown",
   "metadata": {},
   "source": [
    "TODO: do the task and verify the results using the small collection."
   ]
  },
  {
   "cell_type": "code",
   "execution_count": 204,
   "metadata": {
    "scrolled": false
   },
   "outputs": [],
   "source": [
    "def doInvertedIndex(sc, collection, partitions):\n",
    "    r1 = collection\n",
    "    r2 = r1.zipWithIndex()\n",
    "    r3 = r2.map(lambda x: (x[1], tokenizeAndNormalize(x[0])))\n",
    "    r4 = r3.flatMapValues(f)\n",
    "    r5 = r4.map(lambda x: (x[1], x[0]))\n",
    "    r6 = r5.groupByKey().mapValues(list)\n",
    "    r7 = r6.map(lambda x: (x[0], len(set(x[1])), list(set(x[1]))))\n",
    "    return r7\n",
    "\n",
    "def f(x): return x\n",
    "\n",
    "# sc.stop()\n",
    "# sc = SparkContext(master, appName=\"InvertedIndex\")\n",
    "# data, names, ids = getSmallCollection_EX2(sc, 2)\n",
    "# print(doInvertedIndex(sc, data, 2).collect())\n",
    "# sc.stop()"
   ]
  },
  {
   "cell_type": "markdown",
   "metadata": {},
   "source": [
    "12) Run the following script and verify the results."
   ]
  },
  {
   "cell_type": "code",
   "execution_count": 205,
   "metadata": {
    "scrolled": false
   },
   "outputs": [
    {
     "name": "stdout",
     "output_type": "stream",
     "text": [
      "Number of CPUs = 1 | Time = 0.0476 s \n",
      "   0 : 'roses' occured in 2 documents\n",
      "   1 : 'are' occured in 2 documents\n",
      "   2 : 'red' occured in 2 documents\n",
      "   3 : 'the' occured in 1 documents\n",
      "   4 : 'sun' occured in 1 documents\n",
      "Number of CPUs = 2 | Time = 1.0224 s \n",
      "   0 : 'roses' occured in 2 documents\n",
      "   1 : 'are' occured in 2 documents\n",
      "   2 : 'red' occured in 2 documents\n",
      "   3 : 'sun' occured in 1 documents\n",
      "   4 : 'in' occured in 1 documents\n"
     ]
    }
   ],
   "source": [
    "## i = number of nodes (CPUs). \n",
    "#Why the best time is for 1CPU???\n",
    "for i in [1,2]:\n",
    "    master = \"local[\"+str(i)+\"]\" \n",
    "    sc = SparkContext(master, appName=\"InvertedIndex\")\n",
    "    start_time = time.time()\n",
    "    rdd1, docNames, docIDs = getSmallCollection_EX2(sc, i)\n",
    "    computedData = doInvertedIndex(sc, rdd1, i)\n",
    "    rddSort = computedData.sortBy(lambda x: -x[1])\n",
    "    elapsed = time.time() - start_time\n",
    "    print(\"Number of CPUs = %i | Time = %.4f s \" % (i, elapsed))  \n",
    "    ### PRINT HERE \n",
    "    sortedData = rddSort.collect()\n",
    "    for i in range(0, 5): #print top 5\n",
    "        print(\"   %i : '%s' occured in %i documents\" % (i, sortedData[i][0], sortedData[i][1]))\n",
    "    ###\n",
    "    sc.stop()"
   ]
  },
  {
   "cell_type": "markdown",
   "metadata": {},
   "source": [
    "12) Run the following script and verify if it is faster for 2 cores. Lastly, compare the obtained results with the results of exercise 2 (word count). Are the rankings corellated?"
   ]
  },
  {
   "cell_type": "code",
   "execution_count": 206,
   "metadata": {
    "scrolled": false
   },
   "outputs": [
    {
     "name": "stdout",
     "output_type": "stream",
     "text": [
      "Number of CPUs = 1 | Time = 7.8396 s \n",
      "   0 : 'the' occured in 206 documents\n",
      "   1 : 'of' occured in 204 documents\n",
      "   2 : 'and' occured in 199 documents\n",
      "   3 : 'in' occured in 194 documents\n",
      "   4 : 'a' occured in 189 documents\n",
      "   5 : 'are' occured in 189 documents\n",
      "   6 : 'to' occured in 187 documents\n",
      "   7 : 'is' occured in 180 documents\n",
      "   8 : 'species' occured in 179 documents\n",
      "   9 : 'as' occured in 155 documents\n",
      "   10 : 'with' occured in 143 documents\n",
      "   11 : 'for' occured in 141 documents\n",
      "   12 : 'or' occured in 138 documents\n",
      "   13 : 'they' occured in 131 documents\n",
      "   14 : 'from' occured in 128 documents\n",
      "   15 : 'their' occured in 127 documents\n",
      "   16 : 'have' occured in 123 documents\n",
      "   17 : 'family' occured in 116 documents\n",
      "   18 : 'which' occured in 116 documents\n",
      "   19 : 'by' occured in 115 documents\n",
      "Number of CPUs = 2 | Time = 10.5456 s \n",
      "   0 : 'the' occured in 206 documents\n",
      "   1 : 'of' occured in 204 documents\n",
      "   2 : 'and' occured in 199 documents\n",
      "   3 : 'in' occured in 194 documents\n",
      "   4 : 'are' occured in 189 documents\n",
      "   5 : 'a' occured in 189 documents\n",
      "   6 : 'to' occured in 187 documents\n",
      "   7 : 'is' occured in 180 documents\n",
      "   8 : 'species' occured in 179 documents\n",
      "   9 : 'as' occured in 155 documents\n",
      "   10 : 'with' occured in 143 documents\n",
      "   11 : 'for' occured in 141 documents\n",
      "   12 : 'or' occured in 138 documents\n",
      "   13 : 'they' occured in 131 documents\n",
      "   14 : 'from' occured in 128 documents\n",
      "   15 : 'their' occured in 127 documents\n",
      "   16 : 'have' occured in 123 documents\n",
      "   17 : 'family' occured in 116 documents\n",
      "   18 : 'which' occured in 116 documents\n",
      "   19 : 'by' occured in 115 documents\n"
     ]
    }
   ],
   "source": [
    "## i = number of nodes (CPUs). \n",
    "#Why the best time is for 1CPU???\n",
    "sc.stop()\n",
    "for i in [1,2]:\n",
    "    master = \"local[\"+str(i)+\"]\" \n",
    "    sc = SparkContext(master, appName=\"InvertedIndex\")\n",
    "    start_time = time.time()\n",
    "    rdd1, docNames, docIDs = getLargeCollection_EX2(sc, i)\n",
    "    computedData = doInvertedIndex(sc, rdd1, i)\n",
    "    rddSort = computedData.sortBy(lambda x: -x[1])\n",
    "    elapsed = time.time() - start_time\n",
    "    print(\"Number of CPUs = %i | Time = %.4f s \" % (i, elapsed))  \n",
    "    ### PRINT HERE \n",
    "    sortedData = rddSort.collect()\n",
    "    for i in range(0, 20): #print top 20\n",
    "        print(\"   %i : '%s' occured in %i documents\" % (i, sortedData[i][0], sortedData[i][1]))\n",
    "    ###\n",
    "    sc.stop()"
   ]
  }
 ],
 "metadata": {
  "kernelspec": {
   "display_name": "Python 3",
   "language": "python",
   "name": "python3"
  },
  "language_info": {
   "codemirror_mode": {
    "name": "ipython",
    "version": 3
   },
   "file_extension": ".py",
   "mimetype": "text/x-python",
   "name": "python",
   "nbconvert_exporter": "python",
   "pygments_lexer": "ipython3",
   "version": "3.6.5"
  }
 },
 "nbformat": 4,
 "nbformat_minor": 2
}
